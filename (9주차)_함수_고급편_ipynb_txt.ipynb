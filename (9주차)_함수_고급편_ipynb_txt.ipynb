{
  "cells": [
    {
      "cell_type": "markdown",
      "metadata": {
        "id": "view-in-github",
        "colab_type": "text"
      },
      "source": [
        "<a href=\"https://colab.research.google.com/github/iktion/python_programming/blob/main/(9%EC%A3%BC%EC%B0%A8)_%ED%95%A8%EC%88%98_%EA%B3%A0%EA%B8%89%ED%8E%B8_ipynb_txt.ipynb\" target=\"_parent\"><img src=\"https://colab.research.google.com/assets/colab-badge.svg\" alt=\"Open In Colab\"/></a>"
      ]
    },
    {
      "cell_type": "markdown",
      "id": "9f0b098a",
      "metadata": {
        "id": "9f0b098a"
      },
      "source": [
        "comprehension(함축, 내포) - 하나 이상의 반복자(iterator)를 사용하여 파이썬 자료구조를 만드는 방법"
      ]
    },
    {
      "cell_type": "markdown",
      "id": "1bbb9772",
      "metadata": {
        "id": "1bbb9772"
      },
      "source": [
        "List comprehension\n",
        "- for문을 계속 돌리다 보면 계쏙여러 줄이 만들어지는데, 이를 여러 줄로 표현하는 것보다 압축적으로 표현하는 방식.\n",
        "- for문처럼 순회 가능한 객체를 list 내포\n",
        "\n",
        "[f(xs)                              for xs in iter]\n",
        "\n",
        "f(xs) 반복문 내의 변수 xs에 대한 함수 for xs in iter 순회 가능한 객체에 대한 반복문\n",
        "\n",
        "[f(xs)  for xs in iter if pred(xs)]\n",
        "\n",
        "if pred(xs) : 이러한 조건을 만족하는 요소들만 저장"
      ]
    },
    {
      "cell_type": "code",
      "execution_count": 1,
      "id": "807eb13b",
      "metadata": {
        "colab": {
          "base_uri": "https://localhost:8080/"
        },
        "id": "807eb13b",
        "outputId": "fe8792e1-5cc7-4248-fc59-2d456c29dea8"
      },
      "outputs": [
        {
          "output_type": "stream",
          "name": "stdout",
          "text": [
            "[2, 3, 4]\n"
          ]
        }
      ],
      "source": [
        "a = []\n",
        "for i in [1,2,3]:\n",
        "    a.append(i+1)\n",
        "print(a)"
      ]
    },
    {
      "cell_type": "code",
      "execution_count": 2,
      "id": "de6bbf9b",
      "metadata": {
        "colab": {
          "base_uri": "https://localhost:8080/"
        },
        "id": "de6bbf9b",
        "outputId": "4c67ea30-d0a2-48e9-bdc7-593da56aaef7"
      },
      "outputs": [
        {
          "output_type": "stream",
          "name": "stdout",
          "text": [
            "[2, 3, 4]\n"
          ]
        }
      ],
      "source": [
        "b = [i+1 for i in [1,2,3]]\n",
        "print(b)\n",
        "# 결과물은 같은데 위보다 짧게 입력 가능함"
      ]
    },
    {
      "cell_type": "code",
      "execution_count": 3,
      "id": "8c74d480",
      "metadata": {
        "id": "8c74d480"
      },
      "outputs": [],
      "source": [
        "def calcul(i):\n",
        "    c = i**2+3\n",
        "    return c"
      ]
    },
    {
      "cell_type": "code",
      "execution_count": 4,
      "id": "2e298a5f",
      "metadata": {
        "scrolled": true,
        "colab": {
          "base_uri": "https://localhost:8080/"
        },
        "id": "2e298a5f",
        "outputId": "6adffb8a-4d02-4710-ade4-5595fae50bc7"
      },
      "outputs": [
        {
          "output_type": "stream",
          "name": "stdout",
          "text": [
            "[4, 7, 12]\n"
          ]
        }
      ],
      "source": [
        "d = [calcul(i) for i in [1,2,3]]\n",
        "print(d)"
      ]
    },
    {
      "cell_type": "code",
      "execution_count": 5,
      "id": "e3ee560d",
      "metadata": {
        "colab": {
          "base_uri": "https://localhost:8080/"
        },
        "id": "e3ee560d",
        "outputId": "12330fa5-36c9-48fb-ba0a-b20a54a66c60"
      },
      "outputs": [
        {
          "output_type": "stream",
          "name": "stdout",
          "text": [
            "[3]\n"
          ]
        }
      ],
      "source": [
        "e = [i+1 for i in [1,2,3] if i%2==0]\n",
        "print(e)\n",
        "# 리스트 안의 i가 짝수일 때에만 함수 적용하는 조건을 부여"
      ]
    },
    {
      "cell_type": "code",
      "execution_count": 6,
      "id": "f99aca09",
      "metadata": {
        "colab": {
          "base_uri": "https://localhost:8080/"
        },
        "id": "f99aca09",
        "outputId": "613439ea-a01a-4fb6-f498-e96a580d3e3b"
      },
      "outputs": [
        {
          "output_type": "stream",
          "name": "stdout",
          "text": [
            "[3]\n"
          ]
        }
      ],
      "source": [
        "f = []\n",
        "for i in [1,2,3]:\n",
        "    if i%2 == 0:\n",
        "        f.append(i+1)\n",
        "print(f)\n",
        "# e 리스트와 동일한 내용인데, 내포를 안쓰니 줄이 더 많아짐."
      ]
    },
    {
      "cell_type": "markdown",
      "id": "f07da55f",
      "metadata": {
        "id": "f07da55f"
      },
      "source": [
        "- 1부터 5까지의 정수 리스트 만들기"
      ]
    },
    {
      "cell_type": "code",
      "execution_count": 7,
      "id": "befb4f45",
      "metadata": {
        "colab": {
          "base_uri": "https://localhost:8080/"
        },
        "id": "befb4f45",
        "outputId": "9ba07cbb-0c25-4cd5-88f0-cba09f2a036b"
      },
      "outputs": [
        {
          "output_type": "execute_result",
          "data": {
            "text/plain": [
              "[1, 2, 3, 4, 5]"
            ]
          },
          "metadata": {},
          "execution_count": 7
        }
      ],
      "source": [
        "# 단순 append 추가\n",
        "number_list = []\n",
        "number_list.append(1)\n",
        "number_list.append(2)\n",
        "number_list.append(3)\n",
        "number_list.append(4)\n",
        "number_list.append(5)\n",
        "number_list"
      ]
    },
    {
      "cell_type": "code",
      "execution_count": 8,
      "id": "11e336dd",
      "metadata": {
        "scrolled": true,
        "colab": {
          "base_uri": "https://localhost:8080/"
        },
        "id": "11e336dd",
        "outputId": "b89313fa-59a8-4dd0-b5be-598a1469c8d0"
      },
      "outputs": [
        {
          "output_type": "execute_result",
          "data": {
            "text/plain": [
              "[1, 2, 3, 4, 5]"
            ]
          },
          "metadata": {},
          "execution_count": 8
        }
      ],
      "source": [
        "# 정의 후 반복문+append 함수로 추가\n",
        "number_list=[]\n",
        "for number in range(1,6):\n",
        "    number_list.append(number)\n",
        "number_list"
      ]
    },
    {
      "cell_type": "code",
      "execution_count": 9,
      "id": "aac4fe1c",
      "metadata": {
        "colab": {
          "base_uri": "https://localhost:8080/"
        },
        "id": "aac4fe1c",
        "outputId": "6f9e4bf7-cf1f-4fdd-eb12-fea48a995cd9"
      },
      "outputs": [
        {
          "output_type": "execute_result",
          "data": {
            "text/plain": [
              "[1, 2, 3, 4, 5]"
            ]
          },
          "metadata": {},
          "execution_count": 9
        }
      ],
      "source": [
        "# list 함수와 range 함수 쓰기\n",
        "number_list = list(range(1,6))\n",
        "number_list"
      ]
    },
    {
      "cell_type": "code",
      "execution_count": 10,
      "id": "21c5213e",
      "metadata": {
        "colab": {
          "base_uri": "https://localhost:8080/"
        },
        "id": "21c5213e",
        "outputId": "fe7e0d8e-26fc-46b1-ae72-afb1e4f65575"
      },
      "outputs": [
        {
          "output_type": "execute_result",
          "data": {
            "text/plain": [
              "[1, 2, 3, 4, 5]"
            ]
          },
          "metadata": {},
          "execution_count": 10
        }
      ],
      "source": [
        "# 리스트 내포 쓰기\n",
        "number_list = [number for number in range(1,6)]\n",
        "number_list"
      ]
    },
    {
      "cell_type": "code",
      "execution_count": 11,
      "id": "f9a06c14",
      "metadata": {
        "colab": {
          "base_uri": "https://localhost:8080/"
        },
        "id": "f9a06c14",
        "outputId": "e4aa7a49-cddd-45dc-87ef-70937aa2c1dd"
      },
      "outputs": [
        {
          "output_type": "execute_result",
          "data": {
            "text/plain": [
              "[0, 1, 2, 3, 4]"
            ]
          },
          "metadata": {},
          "execution_count": 11
        }
      ],
      "source": [
        "# 리스트 내포 쓰기 2\n",
        "number_list = [number-1 for number in range(1,6)]\n",
        "number_list"
      ]
    },
    {
      "cell_type": "code",
      "execution_count": 12,
      "id": "328d97be",
      "metadata": {
        "colab": {
          "base_uri": "https://localhost:8080/"
        },
        "id": "328d97be",
        "outputId": "0f05c96b-1498-4c39-e88d-983031a29e57"
      },
      "outputs": [
        {
          "output_type": "execute_result",
          "data": {
            "text/plain": [
              "[1, 3, 5]"
            ]
          },
          "metadata": {},
          "execution_count": 12
        }
      ],
      "source": [
        "# 조건 적용, 리스트 내포 활용하여 1~5 중 홀수만 리스트에 추가\n",
        "a_list = [number for number in range(1,6) if number % 2 ==1]\n",
        "a_list"
      ]
    },
    {
      "cell_type": "code",
      "execution_count": 13,
      "id": "7c2f0296",
      "metadata": {
        "colab": {
          "base_uri": "https://localhost:8080/"
        },
        "id": "7c2f0296",
        "outputId": "64ca7775-143c-4c32-c191-819a5444f80a"
      },
      "outputs": [
        {
          "output_type": "execute_result",
          "data": {
            "text/plain": [
              "[1, 3, 5]"
            ]
          },
          "metadata": {},
          "execution_count": 13
        }
      ],
      "source": [
        "# for문 쓰는 것에 비해 리스트 내포가 훨씬 편함\n",
        "a_list = []\n",
        "for number in range(1,6):\n",
        "    if number % 2 == 1:\n",
        "        a_list.append(number)\n",
        "a_list"
      ]
    },
    {
      "cell_type": "markdown",
      "id": "df0453f8",
      "metadata": {
        "id": "df0453f8"
      },
      "source": [
        "- 리스트 내포 예제\n",
        "\n",
        "sentence = ['I', 'Love', 'Python', 'Soooooo', 'MUCH!!!']"
      ]
    },
    {
      "cell_type": "code",
      "execution_count": 14,
      "id": "b76083e5",
      "metadata": {
        "id": "b76083e5"
      },
      "outputs": [],
      "source": [
        "sentence = ['I', 'Love', 'Python', 'Soooooo', 'MUCH!!!']"
      ]
    },
    {
      "cell_type": "code",
      "execution_count": 15,
      "id": "78b8897a",
      "metadata": {
        "colab": {
          "base_uri": "https://localhost:8080/"
        },
        "id": "78b8897a",
        "outputId": "cb7325f7-44d1-484c-dc3f-20a9002aef37"
      },
      "outputs": [
        {
          "output_type": "execute_result",
          "data": {
            "text/plain": [
              "['i', 'love', 'python', 'soooooo', 'much!!!']"
            ]
          },
          "metadata": {},
          "execution_count": 15
        }
      ],
      "source": [
        "# 함수 적용\n",
        "[word.lower() for word in sentence]"
      ]
    },
    {
      "cell_type": "code",
      "execution_count": 16,
      "id": "278b9e18",
      "metadata": {
        "colab": {
          "base_uri": "https://localhost:8080/"
        },
        "id": "278b9e18",
        "outputId": "e9ddb4d1-e68d-4634-88f1-2760142f095c"
      },
      "outputs": [
        {
          "output_type": "execute_result",
          "data": {
            "text/plain": [
              "['SOOOOOO', 'MUCH!!!']"
            ]
          },
          "metadata": {},
          "execution_count": 16
        }
      ],
      "source": [
        "# 조건 적용\n",
        "[word.upper() for word in sentence if len(word) > 6]"
      ]
    },
    {
      "cell_type": "code",
      "execution_count": 17,
      "id": "f45a4432",
      "metadata": {
        "scrolled": true,
        "colab": {
          "base_uri": "https://localhost:8080/"
        },
        "id": "f45a4432",
        "outputId": "91bfe424-f2ed-4536-f0aa-ffebc4ef50fe"
      },
      "outputs": [
        {
          "output_type": "execute_result",
          "data": {
            "text/plain": [
              "[(0, 0, 0),\n",
              " (1, 1, 1),\n",
              " (2, 4, 8),\n",
              " (3, 9, 27),\n",
              " (4, 16, 64),\n",
              " (5, 25, 125),\n",
              " (6, 36, 216),\n",
              " (7, 49, 343),\n",
              " (8, 64, 512),\n",
              " (9, 81, 729)]"
            ]
          },
          "metadata": {},
          "execution_count": 17
        }
      ],
      "source": [
        "# 함수 적용하여 튜플로 저장\n",
        "[(x,x**2,x**3) for x in range(10)]"
      ]
    },
    {
      "cell_type": "code",
      "execution_count": 18,
      "id": "b713ae8a",
      "metadata": {
        "colab": {
          "base_uri": "https://localhost:8080/"
        },
        "id": "b713ae8a",
        "outputId": "5d763f87-91a5-484f-b85e-ad14c251f452"
      },
      "outputs": [
        {
          "output_type": "execute_result",
          "data": {
            "text/plain": [
              "[0, 1, 2, 3, 4, 5, 6, 7, 8, 9]"
            ]
          },
          "metadata": {},
          "execution_count": 18
        }
      ],
      "source": [
        "list(range(10))"
      ]
    },
    {
      "cell_type": "markdown",
      "id": "bda21993",
      "metadata": {
        "id": "bda21993"
      },
      "source": [
        "- 리스트 내포 - 두 개의 for"
      ]
    },
    {
      "cell_type": "code",
      "execution_count": 19,
      "id": "ca4fe717",
      "metadata": {
        "colab": {
          "base_uri": "https://localhost:8080/"
        },
        "id": "ca4fe717",
        "outputId": "cc57b545-4a56-4c81-f556-b5f369e5cf7e"
      },
      "outputs": [
        {
          "output_type": "stream",
          "name": "stdout",
          "text": [
            "1 1\n",
            "1 2\n",
            "2 1\n",
            "2 2\n",
            "3 1\n",
            "3 2\n"
          ]
        }
      ],
      "source": [
        "rows = range(1,4)\n",
        "cols = range(1,3)\n",
        "for row in rows:\n",
        "    for col in cols:\n",
        "        print(row, col)"
      ]
    },
    {
      "cell_type": "code",
      "execution_count": 20,
      "id": "1d57e39f",
      "metadata": {
        "colab": {
          "base_uri": "https://localhost:8080/"
        },
        "id": "1d57e39f",
        "outputId": "45087584-b94c-4753-eb2b-da6ec8cba61f"
      },
      "outputs": [
        {
          "output_type": "stream",
          "name": "stdout",
          "text": [
            "(1, 1)\n",
            "(1, 2)\n",
            "(2, 1)\n",
            "(2, 2)\n",
            "(3, 1)\n",
            "(3, 2)\n",
            "------\n",
            "[(1, 1), (1, 2), (2, 1), (2, 2), (3, 1), (3, 2)]\n"
          ]
        }
      ],
      "source": [
        "rows = range(1,4)\n",
        "cols = range(1,3)\n",
        "cells = [(row,col) for row in rows for col in cols]\n",
        "for cell in cells:\n",
        "    print(cell)\n",
        "print('------')\n",
        "print(cells)"
      ]
    },
    {
      "cell_type": "code",
      "execution_count": 49,
      "id": "7db2a34e",
      "metadata": {
        "colab": {
          "base_uri": "https://localhost:8080/"
        },
        "id": "7db2a34e",
        "outputId": "be4e27b4-71a1-4e40-ba87-c53a7bbc5244"
      },
      "outputs": [
        {
          "output_type": "execute_result",
          "data": {
            "text/plain": [
              "[(1, 0),\n",
              " (2, 0),\n",
              " (2, 1),\n",
              " (3, 0),\n",
              " (3, 1),\n",
              " (3, 2),\n",
              " (4, 0),\n",
              " (4, 1),\n",
              " (4, 2),\n",
              " (4, 3)]"
            ]
          },
          "metadata": {},
          "execution_count": 49
        }
      ],
      "source": [
        "[(i,j) for i in range(5) for j in range(i)]"
      ]
    },
    {
      "cell_type": "markdown",
      "id": "2e91c38d",
      "metadata": {
        "id": "2e91c38d"
      },
      "source": [
        "- 딕셔너리 내포"
      ]
    },
    {
      "cell_type": "markdown",
      "id": "ca564225",
      "metadata": {
        "id": "ca564225"
      },
      "source": [
        " {key_func(vars):val_func(vars) for vars in iterable}\n",
        " \n",
        " key:value 형태로 저장"
      ]
    },
    {
      "cell_type": "markdown",
      "id": "792921ba",
      "metadata": {
        "id": "792921ba"
      },
      "source": [
        "예제"
      ]
    },
    {
      "cell_type": "code",
      "execution_count": 50,
      "id": "fb1b205b",
      "metadata": {
        "colab": {
          "base_uri": "https://localhost:8080/"
        },
        "id": "fb1b205b",
        "outputId": "99af4c34-9c91-4d70-bdc7-48eb70995689"
      },
      "outputs": [
        {
          "output_type": "stream",
          "name": "stdout",
          "text": [
            "l\n",
            "e\n",
            "t\n",
            "t\n",
            "e\n",
            "r\n",
            "s\n"
          ]
        }
      ],
      "source": [
        "for letter in word:\n",
        "    print(letter)"
      ]
    },
    {
      "cell_type": "code",
      "execution_count": 51,
      "id": "e4135e5c",
      "metadata": {
        "colab": {
          "base_uri": "https://localhost:8080/"
        },
        "id": "e4135e5c",
        "outputId": "b1762232-d08f-4dd8-8ba9-27ed185f376c"
      },
      "outputs": [
        {
          "output_type": "execute_result",
          "data": {
            "text/plain": [
              "1"
            ]
          },
          "metadata": {},
          "execution_count": 51
        }
      ],
      "source": [
        "word.count('tt')"
      ]
    },
    {
      "cell_type": "code",
      "execution_count": 52,
      "id": "fff3a6fa",
      "metadata": {
        "colab": {
          "base_uri": "https://localhost:8080/"
        },
        "id": "fff3a6fa",
        "outputId": "cc205c68-4f02-4aa5-ecc5-e1d2a8ae4659"
      },
      "outputs": [
        {
          "output_type": "execute_result",
          "data": {
            "text/plain": [
              "2"
            ]
          },
          "metadata": {},
          "execution_count": 52
        }
      ],
      "source": [
        "word.count('e')"
      ]
    },
    {
      "cell_type": "code",
      "execution_count": 53,
      "id": "16a78c24",
      "metadata": {
        "colab": {
          "base_uri": "https://localhost:8080/"
        },
        "id": "16a78c24",
        "outputId": "610436b0-cbf3-4bfe-996e-81924f1b1bb1"
      },
      "outputs": [
        {
          "output_type": "execute_result",
          "data": {
            "text/plain": [
              "{'l': 1, 'e': 2, 't': 2, 'r': 1, 's': 1}"
            ]
          },
          "metadata": {},
          "execution_count": 53
        }
      ],
      "source": [
        "word = 'letters'\n",
        "letter_counts = {letter:word.count(letter) for letter in word}\n",
        "letter_counts\n",
        "# 그러나 이 코드에는 비효율적인 부분이 있다.\n",
        "# 비효율적인 이유는 e를 두번 세는 걸 두 번 하게 됨. \n",
        "# 지금이야 letters 7글자 내에서 카운팅하나 변량이 증가하면 계산시간 증가"
      ]
    },
    {
      "cell_type": "code",
      "execution_count": 27,
      "id": "6b6d1421",
      "metadata": {
        "colab": {
          "base_uri": "https://localhost:8080/"
        },
        "id": "6b6d1421",
        "outputId": "aa6e9b00-cb36-4122-c177-ebbe61053c3f"
      },
      "outputs": [
        {
          "output_type": "execute_result",
          "data": {
            "text/plain": [
              "{'e': 2, 'r': 1, 's': 1, 'l': 1, 't': 2}"
            ]
          },
          "metadata": {},
          "execution_count": 27
        }
      ],
      "source": [
        "word = 'letters'\n",
        "letter_counts = {letter:word.count(letter) for letter in set(word)}\n",
        "letter_counts"
      ]
    },
    {
      "cell_type": "code",
      "execution_count": 28,
      "id": "53c8fd85",
      "metadata": {
        "colab": {
          "base_uri": "https://localhost:8080/"
        },
        "id": "53c8fd85",
        "outputId": "e74e9ece-d70c-4a54-8928-f4a3b4f9bf46"
      },
      "outputs": [
        {
          "output_type": "execute_result",
          "data": {
            "text/plain": [
              "{'e', 'l', 'r', 's', 't'}"
            ]
          },
          "metadata": {},
          "execution_count": 28
        }
      ],
      "source": [
        "set(word) #  중복을 제거하고 집합을 만들어 주는 set 함수."
      ]
    },
    {
      "cell_type": "markdown",
      "id": "bc55dc37",
      "metadata": {
        "id": "bc55dc37"
      },
      "source": [
        "- Set comprehension\n",
        "\n",
        "{func(vars) for vars in iterable}\n",
        "\n",
        "예제 : a_set = {number for number in range(1,6) if number % 3 == 1}"
      ]
    },
    {
      "cell_type": "code",
      "execution_count": 29,
      "id": "e48b0343",
      "metadata": {
        "colab": {
          "base_uri": "https://localhost:8080/"
        },
        "id": "e48b0343",
        "outputId": "d4f7fc60-d26e-4cc7-ddc2-abb263a6e769"
      },
      "outputs": [
        {
          "output_type": "execute_result",
          "data": {
            "text/plain": [
              "{1, 4}"
            ]
          },
          "metadata": {},
          "execution_count": 29
        }
      ],
      "source": [
        "a_set = {number for number in range(1,6) if number % 3 ==1}\n",
        "a_set"
      ]
    },
    {
      "cell_type": "markdown",
      "id": "f68296e3",
      "metadata": {
        "id": "f68296e3"
      },
      "source": [
        "- Comprehension\n",
        "\n",
        "{v:k for k,v in d.items()}\n",
        "\n",
        "{word for word in hamlet if is_palindrome(word.lower())}"
      ]
    },
    {
      "cell_type": "markdown",
      "id": "24050e88",
      "metadata": {
        "id": "24050e88"
      },
      "source": [
        "## Functions - 기본 구조\n",
        "\n",
        "- return 값을 갖는 함수\n",
        "\n",
        "def function_name(param1, param2):\n",
        "    value = do_something()\n",
        "    return value\n",
        "    \n",
        "   - def 라는 키워드로 함수임을 나타냄\n",
        "   - return은 해도 되고 안해도 됨. 만약 return이 없다면 아무 거도 돌려주지 않는 것\n",
        "   - 매개변수에 변수 타입이 지정되지 않음\n",
        "   - return 하는 값에 대한 타입도 지정하지 않음"
      ]
    },
    {
      "cell_type": "markdown",
      "id": "4b9ec173",
      "metadata": {
        "id": "4b9ec173"
      },
      "source": [
        "- 덧셈 함수\n",
        "\n",
        "def sum(a, b) :\n",
        "\n",
        "      return a + b\n",
        "\n",
        "sum(1, 2)\n",
        "\n",
        "3\n",
        "\n",
        "sum(1.3, 3.1)\n",
        "\n",
        "4.4\n",
        "\n",
        "sum('love', 'python')\n",
        "\n",
        "'love python'"
      ]
    },
    {
      "cell_type": "markdown",
      "id": "5c84560c",
      "metadata": {
        "id": "5c84560c"
      },
      "source": [
        "### iteration - zip()\n",
        "\n",
        "- zip을 이용한 순회\n",
        "> zip 이라는 함수를 이용하여 여러 시퀀스를 병렬로 순회할 수 있음\n",
        "\n",
        "> days = ['Monday', 'Tuesday', 'Wednesday']\n",
        "\n",
        "> fruits = ['banna', 'orange', 'peach']\n",
        "\n",
        "> drinks = ['coffee', 'tea', 'beer']\n",
        "\n",
        "> desserts = ['tiramisu', 'ice cream', 'pie', 'pudding']\n",
        "\n",
        "for day, fruit, drink, dessert in zip(days, fruits, drinks, desserts):\n",
        "\n",
        "    print(day, \":drink\", drink, \"- eat\", fruit, \"- enjoy\", dessert)"
      ]
    },
    {
      "cell_type": "code",
      "execution_count": 30,
      "id": "8227b737",
      "metadata": {
        "colab": {
          "base_uri": "https://localhost:8080/"
        },
        "id": "8227b737",
        "outputId": "d274e30e-c1aa-47a0-9e0c-b5afcd8c2939"
      },
      "outputs": [
        {
          "output_type": "execute_result",
          "data": {
            "text/plain": [
              "[('Monday', 'banna', 'coffee', 'tiramisu'),\n",
              " ('Tuesday', 'orange', 'tea', 'ice cream'),\n",
              " ('Wednesday', 'peach', 'beer', 'pie')]"
            ]
          },
          "metadata": {},
          "execution_count": 30
        }
      ],
      "source": [
        "days = ['Monday', 'Tuesday', 'Wednesday']\n",
        "fruits = ['banna', 'orange', 'peach']\n",
        "drinks = ['coffee', 'tea', 'beer']\n",
        "desserts = ['tiramisu', 'ice cream', 'pie', 'pudding']\n",
        "\n",
        "list(zip(days, fruits, drinks, desserts))"
      ]
    },
    {
      "cell_type": "code",
      "execution_count": 31,
      "id": "e2966835",
      "metadata": {
        "colab": {
          "base_uri": "https://localhost:8080/"
        },
        "id": "e2966835",
        "outputId": "0d53ac3f-1691-447f-927e-40765e9f7d27"
      },
      "outputs": [
        {
          "output_type": "stream",
          "name": "stdout",
          "text": [
            "Monday :drink coffee - eat banna - enjoy tiramisu\n",
            "Tuesday :drink tea - eat orange - enjoy ice cream\n",
            "Wednesday :drink beer - eat peach - enjoy pie\n"
          ]
        }
      ],
      "source": [
        "for day, fruit, drink, dessert in zip(days, fruits, drinks, desserts):\n",
        "    print(day, \":drink\", drink, \"- eat\", fruit, \"- enjoy\", dessert)"
      ]
    },
    {
      "cell_type": "markdown",
      "id": "14bf429f",
      "metadata": {
        "id": "14bf429f"
      },
      "source": [
        "### zip을 이용하여 영어-프랑스 사전 만들기\n",
        "\n",
        "english = 'Monday', 'Tuesday', 'Wednesday'\n",
        "\n",
        "french = 'Lundi', 'Mardi', 'Mercredi'\n",
        "\n",
        "list(zip(english, french))\n",
        "\n",
        "dict(zip(englsih,french))"
      ]
    },
    {
      "cell_type": "code",
      "execution_count": 32,
      "id": "16710106",
      "metadata": {
        "colab": {
          "base_uri": "https://localhost:8080/"
        },
        "id": "16710106",
        "outputId": "a62654c3-d7fb-44e4-fd82-0d593976bcd4"
      },
      "outputs": [
        {
          "output_type": "execute_result",
          "data": {
            "text/plain": [
              "{'Monday': 'Lundi', 'Tuesday': 'Mardi', 'Wednesday': 'Mercredi'}"
            ]
          },
          "metadata": {},
          "execution_count": 32
        }
      ],
      "source": [
        "english = 'Monday', 'Tuesday', 'Wednesday'\n",
        "\n",
        "french = 'Lundi', 'Mardi', 'Mercredi'\n",
        "\n",
        "list(zip(english, french))\n",
        "#[('Monday','Lundi'),('Tuesday','Mardi'),('Wednesday','Mercredi')]\n",
        "dict(zip(english,french))\n",
        "#{'Monday':'Lundi','Tuesday':'Mardi','Wednesday':'Mercredi'}"
      ]
    },
    {
      "cell_type": "markdown",
      "id": "eea7f734",
      "metadata": {
        "id": "eea7f734"
      },
      "source": [
        "## 함수 위치 인자\n",
        "- 파이썬은 함수의 인자(argument)를 유연하게 처리함\n",
        "- 인자: 함수를 불러서 쓸 때 실제로 집어넣는 값\n",
        "- 우선 순서대로 상응하는 매개변수에 복사하는 위치인지(positional argumnet)\n",
        "\n",
        "-- wine, entree, dessert를 받아서 딕셔너리로 만들어 반환하는 변수\n",
        "> def menu(wine, entree, dessert) → wine 등이 매개변수(parameter)\n",
        "\n",
        ">        return{'wine': wine, 'entree': entree, 'dessert': dessert}\n",
        "        \n",
        "함수 호출\n",
        "\n",
        "menu('chardonnary','chicken','cake') → chardonnary 등이 인자\n",
        "\n",
        "출력\n",
        "\n",
        "{'wine': 'chardonnary', 'entree': 'chicken', 'dessert': 'cake'}\n",
        "\n",
        "\n",
        "\n",
        "각 위치의 의미를 잘 알아야 한다는 단점 존재. 첫번째가 와인이었나 앙트레였나. 기억해야 함"
      ]
    },
    {
      "cell_type": "markdown",
      "id": "1fadeca9",
      "metadata": {
        "id": "1fadeca9"
      },
      "source": [
        "## 함수 키워드 인자\n",
        "\n",
        "- 매개변수(parameter)에 상응하는 이름을 인자에 지정하여 준다면, 함수에서 정의된 순서와 다르더라도 알아서 잘 매핑해준다\n",
        "\n",
        "함수 호출\n",
        "\n",
        "menu(entree = 'beef', dessert = 'bager', wine = 'bordeux') → 위 함수와 순서가 달라도 인식됨\n",
        "\n",
        "출력\n",
        "\n",
        "{'wine': 'bordeux', 'entree': 'beef', 'dessert': 'bager'}\n",
        "\n",
        "심지어 섞어서 쓸 수도 있는데, 위치 인자가 먼저 나와야 한다\n",
        "\n",
        "menu('frontenac', dessert = 'flan', entree = 'fish') \n",
        "\n",
        "출력\n",
        "\n",
        "{'wine': 'frontenac', 'entree': 'fish', 'dessert': 'flan'}"
      ]
    },
    {
      "cell_type": "markdown",
      "id": "f23c0745",
      "metadata": {
        "id": "f23c0745"
      },
      "source": [
        "## 기본 매개변수 값 정하기\n",
        "\n",
        "- 함수 호출자가 인자(값)를 제공하지 않으면 기본값을 사용하게 됨.\n",
        "\n",
        "(예) dessert의 기본값을 정해줌\n",
        "\n",
        "> def menu(wine, entree, dessert = 'pudding'):\n",
        "\n",
        ">    return{'wine': wine, 'entree': entree, 'dessert': dessert}\n",
        "\n",
        "함수 호출\n",
        "\n",
        "menu('chardonnay','chicken')\n",
        "\n",
        "출력\n",
        "\n",
        "{'wine': 'chardonnary', 'entree': 'chicken', 'dessert': 'pudding'}\n",
        "\n",
        "dessert 값을 입력한 경우\n",
        "\n",
        "호출\n",
        "\n",
        "menu('dunkelfelder','duck', 'doughnut')\n",
        "\n",
        "\n",
        "출력\n",
        "\n",
        "{'wine': 'dunkelfelder', 'entree': 'duck', 'dessert': 'doughnut'}"
      ]
    },
    {
      "cell_type": "markdown",
      "id": "e3c01302",
      "metadata": {
        "id": "e3c01302"
      },
      "source": [
        "### 가능한 경우\n",
        "\n",
        "def menu(price, wine='chardonnay', entree='chicken', dessert = 'pudding'):\n",
        "\n",
        "    return{'price': price, 'wine': wine, 'entree': entree, 'dessert': dessert}\n",
        "\n",
        "- 다음과 같은 호출이 가능함\n",
        "\n",
        "menu(100)  1위치 인자\n",
        "\n",
        "menu(price=100)  1 키워드 인자\n",
        "\n",
        "menu(price=120, entree='beef')  2키워드 인자\n",
        "\n",
        "menu(dessert='bager', price=110)  2키워드 인자\n",
        "\n",
        "menu('eighty', 'saint-pierre', 'fish') 3위치 인자\n",
        "\n",
        "menu('hundred', wine='saint-pierre') 1위치 인자, 1 키워드 인자"
      ]
    },
    {
      "cell_type": "code",
      "execution_count": 34,
      "id": "5f02c463",
      "metadata": {
        "scrolled": true,
        "colab": {
          "base_uri": "https://localhost:8080/"
        },
        "id": "5f02c463",
        "outputId": "2feb92a9-de4d-44e6-c562-57c4734a814d"
      },
      "outputs": [
        {
          "output_type": "stream",
          "name": "stdout",
          "text": [
            "{'price': 100, 'wine': 'chardonnay', 'entree': 'chicken', 'dessert': 'pudding'}\n",
            "{'price': 100, 'wine': 'chardonnay', 'entree': 'chicken', 'dessert': 'pudding'}\n",
            "{'price': 120, 'wine': 'chardonnay', 'entree': 'beef', 'dessert': 'pudding'}\n",
            "{'price': 110, 'wine': 'chardonnay', 'entree': 'chicken', 'dessert': 'bager'}\n",
            "{'price': 'eighty', 'wine': 'saint-pierre', 'entree': 'fish', 'dessert': 'pudding'}\n",
            "{'price': 'hundred', 'wine': 'saint-pierre', 'entree': 'chicken', 'dessert': 'pudding'}\n"
          ]
        }
      ],
      "source": [
        "### 가능한 경우\n",
        "\n",
        "def menu(price, wine='chardonnay', entree='chicken', dessert = 'pudding'):\n",
        "    return{'price': price, 'wine': wine, 'entree': entree, 'dessert': dessert}\n",
        "\n",
        "\n",
        "print(menu(100))\n",
        "print(menu(price=100))\n",
        "print(menu(price=120, entree='beef'))\n",
        "print(menu(dessert='bager', price=110))\n",
        "print(menu('eighty', 'saint-pierre', 'fish'))\n",
        "print(menu('hundred', wine= 'saint-pierre'))"
      ]
    },
    {
      "cell_type": "markdown",
      "id": "e99c8184",
      "metadata": {
        "id": "e99c8184"
      },
      "source": [
        "- 다음과 같은 호출은 불가능함\n",
        "\n",
        "menu()    price에 인자가 할당이 안됨\n",
        "\n",
        "menu(price = 100, 'saint-pierre')  위치인자 saint-pierre를 쓰려면 먼저 써야 함. 키워드 인자 할당 후 위치 인자를 쓰면 안됨\n",
        "\n",
        "menu(100, price = 120)  100이란 위치 인자도 price를 나타내는데 price=12 라고 키워드 인자를 중복 입력\n",
        "\n",
        "menu(main='cream pasta')  main 은 정의되지 않은 매개변수임\n",
        "\n",
        "어떻게 안되는지는 아래에서 확인 가능"
      ]
    },
    {
      "cell_type": "code",
      "execution_count": 39,
      "id": "6ed5cca9",
      "metadata": {
        "colab": {
          "base_uri": "https://localhost:8080/",
          "height": 206
        },
        "id": "6ed5cca9",
        "outputId": "39aaffca-80a0-4932-9b9e-cf76d965cb28"
      },
      "outputs": [
        {
          "output_type": "error",
          "ename": "TypeError",
          "evalue": "ignored",
          "traceback": [
            "\u001b[0;31m---------------------------------------------------------------------------\u001b[0m",
            "\u001b[0;31mTypeError\u001b[0m                                 Traceback (most recent call last)",
            "\u001b[0;32m<ipython-input-39-2b294a65fcad>\u001b[0m in \u001b[0;36m<cell line: 1>\u001b[0;34m()\u001b[0m\n\u001b[0;32m----> 1\u001b[0;31m \u001b[0mmenu\u001b[0m\u001b[0;34m(\u001b[0m\u001b[0;34m)\u001b[0m\u001b[0;34m\u001b[0m\u001b[0;34m\u001b[0m\u001b[0m\n\u001b[0m\u001b[1;32m      2\u001b[0m \u001b[0;31m# TypeError: menu() missing 1 required positional argument: 'price'\u001b[0m\u001b[0;34m\u001b[0m\u001b[0;34m\u001b[0m\u001b[0m\n\u001b[1;32m      3\u001b[0m \u001b[0;31m# pirce에 인자 할당이 안되었다는 뜻\u001b[0m\u001b[0;34m\u001b[0m\u001b[0;34m\u001b[0m\u001b[0m\n",
            "\u001b[0;31mTypeError\u001b[0m: menu() missing 1 required positional argument: 'price'"
          ]
        }
      ],
      "source": [
        "menu()\n",
        "# TypeError: menu() missing 1 required positional argument: 'price'\n",
        "# pirce에 인자 할당이 안되었다는 뜻"
      ]
    },
    {
      "cell_type": "code",
      "execution_count": 36,
      "id": "58791793",
      "metadata": {
        "colab": {
          "base_uri": "https://localhost:8080/",
          "height": 135
        },
        "id": "58791793",
        "outputId": "c8dba2d8-5a84-43f4-8eb5-5bb003cdaf57"
      },
      "outputs": [
        {
          "output_type": "error",
          "ename": "SyntaxError",
          "evalue": "ignored",
          "traceback": [
            "\u001b[0;36m  File \u001b[0;32m\"<ipython-input-36-6bd9a0c56528>\"\u001b[0;36m, line \u001b[0;32m1\u001b[0m\n\u001b[0;31m    menu(price = 100, 'saint-pierre')\u001b[0m\n\u001b[0m                                    ^\u001b[0m\n\u001b[0;31mSyntaxError\u001b[0m\u001b[0;31m:\u001b[0m positional argument follows keyword argument\n"
          ]
        }
      ],
      "source": [
        "menu(price = 100, 'saint-pierre')\n",
        "# positional argument follows keyword argument : 위치인자가 키워드 인자 뒤에옴"
      ]
    },
    {
      "cell_type": "code",
      "execution_count": 37,
      "id": "6b22c872",
      "metadata": {
        "colab": {
          "base_uri": "https://localhost:8080/",
          "height": 171
        },
        "id": "6b22c872",
        "outputId": "666929c1-d470-4398-98ea-c9a7fcd9e288"
      },
      "outputs": [
        {
          "output_type": "error",
          "ename": "TypeError",
          "evalue": "ignored",
          "traceback": [
            "\u001b[0;31m---------------------------------------------------------------------------\u001b[0m",
            "\u001b[0;31mTypeError\u001b[0m                                 Traceback (most recent call last)",
            "\u001b[0;32m<ipython-input-37-a6c712a98be5>\u001b[0m in \u001b[0;36m<cell line: 1>\u001b[0;34m()\u001b[0m\n\u001b[0;32m----> 1\u001b[0;31m \u001b[0mmenu\u001b[0m\u001b[0;34m(\u001b[0m\u001b[0;36m100\u001b[0m\u001b[0;34m,\u001b[0m \u001b[0mprice\u001b[0m \u001b[0;34m=\u001b[0m \u001b[0;36m120\u001b[0m\u001b[0;34m)\u001b[0m\u001b[0;34m\u001b[0m\u001b[0;34m\u001b[0m\u001b[0m\n\u001b[0m",
            "\u001b[0;31mTypeError\u001b[0m: menu() got multiple values for argument 'price'"
          ]
        }
      ],
      "source": [
        "menu(100, price = 120)"
      ]
    },
    {
      "cell_type": "code",
      "execution_count": 38,
      "id": "04fe7070",
      "metadata": {
        "colab": {
          "base_uri": "https://localhost:8080/",
          "height": 171
        },
        "id": "04fe7070",
        "outputId": "6a70f715-23cd-4a8b-c976-8a9fed69cec6"
      },
      "outputs": [
        {
          "output_type": "error",
          "ename": "TypeError",
          "evalue": "ignored",
          "traceback": [
            "\u001b[0;31m---------------------------------------------------------------------------\u001b[0m",
            "\u001b[0;31mTypeError\u001b[0m                                 Traceback (most recent call last)",
            "\u001b[0;32m<ipython-input-38-9f2eda936114>\u001b[0m in \u001b[0;36m<cell line: 1>\u001b[0;34m()\u001b[0m\n\u001b[0;32m----> 1\u001b[0;31m \u001b[0mmenu\u001b[0m\u001b[0;34m(\u001b[0m\u001b[0mmain\u001b[0m\u001b[0;34m=\u001b[0m\u001b[0;34m'cream pasta'\u001b[0m\u001b[0;34m)\u001b[0m\u001b[0;34m\u001b[0m\u001b[0;34m\u001b[0m\u001b[0m\n\u001b[0m",
            "\u001b[0;31mTypeError\u001b[0m: menu() got an unexpected keyword argument 'main'"
          ]
        }
      ],
      "source": [
        "menu(main='cream pasta')"
      ]
    },
    {
      "cell_type": "markdown",
      "id": "3e0be6bb",
      "metadata": {
        "id": "3e0be6bb"
      },
      "source": [
        "## docstring\n",
        "\n",
        "- 함수 시작 부분에 문자열을 포함하여 함수 정의에 문서를 붙일 수 있음\n",
        "\n",
        "> def echo(anything):\n",
        "\n",
        ">        'echo returns its input argumnet'\n",
        "\n",
        ">        return anything\n",
        "\n",
        "> def print_if_true(thing, check):\n",
        "\n",
        ">    \"\"\"Print the first argumnet if a second argumnet is true.\n",
        "\n",
        ">    The operation is:\n",
        ">    1. Check whether the *second* argument is true.\n",
        ">    2. If it is, print the *first* argument.\n",
        "\"\"\"\n",
        "\n",
        ">        if check:\n",
        "\n",
        ">            print(thing)\n",
        "\n",
        "\n",
        "### 나중에 help() 함수로 호출하여 쓸 수 있다."
      ]
    },
    {
      "cell_type": "code",
      "execution_count": 43,
      "id": "b55df800",
      "metadata": {
        "id": "b55df800"
      },
      "outputs": [],
      "source": [
        "def echo(anything):\n",
        "    'echo returns its input argumnet'\n",
        "    return anything\n",
        "\n",
        "def print_if_true(thing, check):\n",
        "    \"\"\"Print the first argumnet if a second argumnet is true.\n",
        "    The operation is:\n",
        "     1. Check whether the *second* argument is true.\n",
        "     2. If it is, print the *first* argument.\n",
        "    \"\"\"\n",
        "    if check:\n",
        "        print(thing)"
      ]
    },
    {
      "cell_type": "code",
      "execution_count": 41,
      "id": "585f5df6",
      "metadata": {
        "colab": {
          "base_uri": "https://localhost:8080/",
          "height": 171
        },
        "id": "585f5df6",
        "outputId": "ace46b75-fbdb-462e-ff29-4a6318e27b97"
      },
      "outputs": [
        {
          "output_type": "error",
          "ename": "NameError",
          "evalue": "ignored",
          "traceback": [
            "\u001b[0;31m---------------------------------------------------------------------------\u001b[0m",
            "\u001b[0;31mNameError\u001b[0m                                 Traceback (most recent call last)",
            "\u001b[0;32m<ipython-input-41-dfe8f96e636e>\u001b[0m in \u001b[0;36m<cell line: 1>\u001b[0;34m()\u001b[0m\n\u001b[0;32m----> 1\u001b[0;31m \u001b[0mhelp\u001b[0m\u001b[0;34m(\u001b[0m\u001b[0mecho\u001b[0m\u001b[0;34m)\u001b[0m\u001b[0;34m\u001b[0m\u001b[0;34m\u001b[0m\u001b[0m\n\u001b[0m",
            "\u001b[0;31mNameError\u001b[0m: name 'echo' is not defined"
          ]
        }
      ],
      "source": [
        "help(echo)"
      ]
    },
    {
      "cell_type": "code",
      "execution_count": 44,
      "id": "ecbdfbae",
      "metadata": {
        "colab": {
          "base_uri": "https://localhost:8080/"
        },
        "id": "ecbdfbae",
        "outputId": "90fea40e-236e-4bdf-ecf6-b362e88d13a0"
      },
      "outputs": [
        {
          "output_type": "stream",
          "name": "stdout",
          "text": [
            "Help on function print_if_true in module __main__:\n",
            "\n",
            "print_if_true(thing, check)\n",
            "    Print the first argumnet if a second argumnet is true.\n",
            "    The operation is:\n",
            "     1. Check whether the *second* argument is true.\n",
            "     2. If it is, print the *first* argument.\n",
            "\n"
          ]
        }
      ],
      "source": [
        "help(print_if_true)"
      ]
    },
    {
      "cell_type": "code",
      "execution_count": 46,
      "id": "d41ff17f",
      "metadata": {
        "id": "d41ff17f"
      },
      "outputs": [],
      "source": [
        "print_if_true('haha', False)"
      ]
    },
    {
      "cell_type": "code",
      "execution_count": null,
      "id": "36eb808f",
      "metadata": {
        "id": "36eb808f"
      },
      "outputs": [],
      "source": [
        "print_if_true('haha', True)"
      ]
    },
    {
      "cell_type": "code",
      "execution_count": 47,
      "id": "e42cc391",
      "metadata": {
        "colab": {
          "base_uri": "https://localhost:8080/"
        },
        "id": "e42cc391",
        "outputId": "0f9cc36c-dac5-4375-9005-f63e6a10645c"
      },
      "outputs": [
        {
          "output_type": "stream",
          "name": "stdout",
          "text": [
            "haha\n"
          ]
        }
      ],
      "source": [
        "print_if_true('haha', 1==1)"
      ]
    },
    {
      "cell_type": "code",
      "execution_count": 48,
      "id": "27e5b87d",
      "metadata": {
        "id": "27e5b87d"
      },
      "outputs": [],
      "source": [
        "print_if_true('haha', 1==2)"
      ]
    },
    {
      "cell_type": "code",
      "execution_count": 48,
      "id": "a65f646f",
      "metadata": {
        "id": "a65f646f"
      },
      "outputs": [],
      "source": []
    },
    {
      "cell_type": "markdown",
      "id": "af244d14",
      "metadata": {
        "id": "af244d14"
      },
      "source": [
        "## Python library\n",
        "\n",
        "- 유용한 프로그램들을 미리 만들어 놓아 불러서 쓸 수 있게 한 것\n",
        "- 패키지라고도 함\n",
        "- 기본으로 설치되지 않은 것들을 필요할 때 설치할 수 있음"
      ]
    },
    {
      "cell_type": "markdown",
      "id": "9f759486",
      "metadata": {
        "id": "9f759486"
      },
      "source": [
        "### 패키지 설치\n",
        "\n",
        "- sciket-learn\n",
        "\n",
        " $ pip install scikit-learn\n",
        " \n",
        " machine learning library\n",
        " \n",
        " 기계학습을 위한 다양한 알고리즘, 데이터셋 등이 포함됨\n",
        " \n",
        " 관련된 다른 패키지(Numpy, SciPy)등이 자동으로 설치됨"
      ]
    },
    {
      "cell_type": "markdown",
      "id": "f969b42a",
      "metadata": {
        "id": "f969b42a"
      },
      "source": [
        "이번 수업을 위해서\n",
        "\n",
        "numpy, pandas, seaborn, matplotlib, scipy, scikit-learn 을 설치하면 됨"
      ]
    },
    {
      "cell_type": "markdown",
      "id": "9a354463",
      "metadata": {
        "id": "9a354463"
      },
      "source": [
        "## 모듈\n",
        "\n",
        "- 함수나 변수, 클래스들을 모아 놓은 파일\n",
        "\n",
        "- 다른 파이썬 프로그램에서 불러와 사용할 수 있게끔 만들어진 파이썬 파일\n",
        "\n",
        "- 모듈 만들기\n",
        "\n",
        "> mod1.py 라는 파일을 만들어 저장\n",
        "\n",
        "> 파일이 저장된 디렉토리에서 python 대화형 인터프리터 실행"
      ]
    }
  ],
  "metadata": {
    "kernelspec": {
      "display_name": "Python 3 (ipykernel)",
      "language": "python",
      "name": "python3"
    },
    "language_info": {
      "codemirror_mode": {
        "name": "ipython",
        "version": 3
      },
      "file_extension": ".py",
      "mimetype": "text/x-python",
      "name": "python",
      "nbconvert_exporter": "python",
      "pygments_lexer": "ipython3",
      "version": "3.9.13"
    },
    "colab": {
      "provenance": [],
      "include_colab_link": true
    }
  },
  "nbformat": 4,
  "nbformat_minor": 5
}